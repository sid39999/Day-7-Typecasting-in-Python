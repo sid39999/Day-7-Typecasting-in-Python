{
 "cells": [
  {
   "cell_type": "markdown",
   "id": "d05dbfbe",
   "metadata": {},
   "source": [
    "# TypeCasting in Python"
   ]
  },
  {
   "cell_type": "raw",
   "id": "7b7661bf",
   "metadata": {},
   "source": [
    "Typecasting in Python refers to the process of converting a variable or value from one data type to another. "
   ]
  },
  {
   "cell_type": "markdown",
   "id": "c4ca0714",
   "metadata": {},
   "source": [
    "# Explicit "
   ]
  },
  {
   "cell_type": "code",
   "execution_count": 3,
   "id": "08685d86",
   "metadata": {},
   "outputs": [
    {
     "name": "stdout",
     "output_type": "stream",
     "text": [
      "<class 'str'>\n",
      "23\n"
     ]
    }
   ],
   "source": [
    "a = '23'\n",
    "print(type(a))\n",
    "print(a)"
   ]
  },
  {
   "cell_type": "code",
   "execution_count": 11,
   "id": "89310e27",
   "metadata": {},
   "outputs": [
    {
     "name": "stdout",
     "output_type": "stream",
     "text": [
      "<class 'str'>\n",
      "2+3\n",
      "\n",
      "5\n",
      "<class 'int'>\n"
     ]
    }
   ],
   "source": [
    "b = '2+3'\n",
    "print(type(b))\n",
    "print(b)\n",
    "\n",
    "print()\n",
    "\n",
    "c = eval(b)\n",
    "print(c)\n",
    "print(type(c))"
   ]
  },
  {
   "cell_type": "code",
   "execution_count": 18,
   "id": "ea843b15",
   "metadata": {},
   "outputs": [
    {
     "name": "stdout",
     "output_type": "stream",
     "text": [
      "<class 'int'>\n",
      "\n",
      "<class 'float'>\n"
     ]
    }
   ],
   "source": [
    "v = 2\n",
    "print(type(v))\n",
    "\n",
    "print()\n",
    "\n",
    "c = float(v)\n",
    "print(type(c))"
   ]
  },
  {
   "cell_type": "code",
   "execution_count": null,
   "id": "6cdd48bb",
   "metadata": {},
   "outputs": [],
   "source": []
  },
  {
   "cell_type": "markdown",
   "id": "daeac7c7",
   "metadata": {},
   "source": [
    "# Implicit (Automatic Type Conversion)"
   ]
  },
  {
   "cell_type": "code",
   "execution_count": 19,
   "id": "9f8cc787",
   "metadata": {},
   "outputs": [
    {
     "name": "stdout",
     "output_type": "stream",
     "text": [
      "4.3\n"
     ]
    }
   ],
   "source": [
    "a = 2            #int\n",
    "b = 2.3          #float\n",
    "\n",
    "print(a+b)"
   ]
  },
  {
   "cell_type": "code",
   "execution_count": null,
   "id": "af63d58d",
   "metadata": {},
   "outputs": [],
   "source": []
  },
  {
   "cell_type": "code",
   "execution_count": null,
   "id": "069d2fb7",
   "metadata": {},
   "outputs": [],
   "source": []
  }
 ],
 "metadata": {
  "kernelspec": {
   "display_name": "Python 3 (ipykernel)",
   "language": "python",
   "name": "python3"
  },
  "language_info": {
   "codemirror_mode": {
    "name": "ipython",
    "version": 3
   },
   "file_extension": ".py",
   "mimetype": "text/x-python",
   "name": "python",
   "nbconvert_exporter": "python",
   "pygments_lexer": "ipython3",
   "version": "3.11.5"
  }
 },
 "nbformat": 4,
 "nbformat_minor": 5
}
